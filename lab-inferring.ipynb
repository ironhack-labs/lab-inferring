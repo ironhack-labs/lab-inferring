{
 "cells": [
  {
   "cell_type": "markdown",
   "metadata": {},
   "source": [
    "# **Inferring**\n",
    "In this lesson, you will infer sentiment and topics from product reviews and news articles.\n",
    "\n",
    "## Setup"
   ]
  },
  {
   "cell_type": "code",
   "execution_count": 16,
   "metadata": {
    "tags": []
   },
   "outputs": [],
   "source": [
    "from openai import OpenAI\n",
    "import os\n",
    "\n",
    "from dotenv import load_dotenv, find_dotenv\n",
    "_ = load_dotenv(find_dotenv()) # read local .env file\n",
    "\n",
    "OPENAI_API_KEY  = os.getenv('OPENAI_API_KEY')"
   ]
  },
  {
   "cell_type": "code",
   "execution_count": 17,
   "metadata": {
    "tags": []
   },
   "outputs": [],
   "source": [
    "client = OpenAI(\n",
    "    # This is the default and can be omitted\n",
    "    api_key=OPENAI_API_KEY,\n",
    ")\n",
    "\n",
    "def get_completion(prompt, model=\"gpt-3.5-turbo\"):\n",
    "    messages = [{\"role\": \"user\", \"content\": prompt}]\n",
    "    response = client.chat.completions.create(\n",
    "        model=model,\n",
    "        messages=messages,\n",
    "        temperature=0, # this is the degree of randomness of the model's output\n",
    "    )\n",
    "    return response.choices[0].message.content"
   ]
  },
  {
   "cell_type": "markdown",
   "metadata": {},
   "source": [
    "## Product review text"
   ]
  },
  {
   "cell_type": "code",
   "execution_count": 18,
   "metadata": {
    "tags": []
   },
   "outputs": [],
   "source": [
    "lamp_review = \"\"\"\n",
    "Needed a nice lamp for my bedroom, and this one had \\\n",
    "additional storage and not too high of a price point. \\\n",
    "Got it fast.  The string to our lamp broke during the \\\n",
    "transit and the company happily sent over a new one. \\\n",
    "Came within a few days as well. It was easy to put \\\n",
    "together.  I had a missing part, so I contacted their \\\n",
    "support and they very quickly got me the missing piece! \\\n",
    "Lumina seems to me to be a great company that cares \\\n",
    "about their customers and products!!\n",
    "\"\"\""
   ]
  },
  {
   "cell_type": "markdown",
   "metadata": {},
   "source": [
    "## Sentiment (positive/negative)"
   ]
  },
  {
   "cell_type": "code",
   "execution_count": null,
   "metadata": {
    "tags": []
   },
   "outputs": [],
   "source": [
    "prompt = f\"\"\"\n",
    "What is the sentiment of the following product review, \n",
    "which is delimited with triple backticks?\n",
    "\n",
    "Review text: '''{lamp_review}'''\n",
    "\"\"\"\n",
    "response = get_completion(prompt)\n",
    "print(response)"
   ]
  },
  {
   "cell_type": "code",
   "execution_count": null,
   "metadata": {
    "tags": []
   },
   "outputs": [],
   "source": [
    "prompt = f\"\"\"\n",
    "What is the sentiment of the following product review, \n",
    "which is delimited with triple backticks?\n",
    "\n",
    "Give your answer as a single word, either \"positive\" \\\n",
    "or \"negative\".\n",
    "\n",
    "Review text: '''{lamp_review}'''\n",
    "\"\"\"\n",
    "response = get_completion(prompt)\n",
    "print(response)"
   ]
  },
  {
   "cell_type": "markdown",
   "metadata": {},
   "source": [
    "## Identify types of emotions"
   ]
  },
  {
   "cell_type": "code",
   "execution_count": null,
   "metadata": {
    "tags": []
   },
   "outputs": [],
   "source": [
    "prompt = f\"\"\"\n",
    "Identify a list of emotions that the writer of the \\\n",
    "following review is expressing. Include no more than \\\n",
    "five items in the list. Format your answer as a list of \\\n",
    "lower-case words separated by commas.\n",
    "\n",
    "Review text: '''{lamp_review}'''\n",
    "\"\"\"\n",
    "response = get_completion(prompt)\n",
    "print(response)"
   ]
  },
  {
   "cell_type": "markdown",
   "metadata": {},
   "source": [
    "## Identify anger"
   ]
  },
  {
   "cell_type": "code",
   "execution_count": null,
   "metadata": {
    "tags": []
   },
   "outputs": [],
   "source": [
    "prompt = f\"\"\"\n",
    "Is the writer of the following review expressing anger?\\\n",
    "The review is delimited with triple backticks. \\\n",
    "Give your answer as either yes or no.\n",
    "\n",
    "Review text: '''{lamp_review}'''\n",
    "\"\"\"\n",
    "response = get_completion(prompt)\n",
    "print(response)"
   ]
  },
  {
   "cell_type": "markdown",
   "metadata": {},
   "source": [
    "## Extract product and company name from customer reviews"
   ]
  },
  {
   "cell_type": "code",
   "execution_count": null,
   "metadata": {
    "tags": []
   },
   "outputs": [],
   "source": [
    "prompt = f\"\"\"\n",
    "Identify the following items from the review text: \n",
    "- Item purchased by reviewer\n",
    "- Company that made the item\n",
    "\n",
    "The review is delimited with triple backticks. \\\n",
    "Format your response as a JSON object with \\\n",
    "\"Item\" and \"Brand\" as the keys. \n",
    "If the information isn't present, use \"unknown\" \\\n",
    "as the value.\n",
    "Make your response as short as possible.\n",
    "  \n",
    "Review text: '''{lamp_review}'''\n",
    "\"\"\"\n",
    "response = get_completion(prompt)\n",
    "print(response)"
   ]
  },
  {
   "cell_type": "markdown",
   "metadata": {},
   "source": [
    "## Doing multiple tasks at once"
   ]
  },
  {
   "cell_type": "code",
   "execution_count": null,
   "metadata": {
    "tags": []
   },
   "outputs": [],
   "source": [
    "prompt = f\"\"\"\n",
    "Identify the following items from the review text: \n",
    "- Sentiment (positive or negative)\n",
    "- Is the reviewer expressing anger? (true or false)\n",
    "- Item purchased by reviewer\n",
    "- Company that made the item\n",
    "\n",
    "The review is delimited with triple backticks. \\\n",
    "Format your response as a JSON object with \\\n",
    "\"Sentiment\", \"Anger\", \"Item\" and \"Brand\" as the keys.\n",
    "If the information isn't present, use \"unknown\" \\\n",
    "as the value.\n",
    "Make your response as short as possible.\n",
    "Format the Anger value as a boolean.\n",
    "\n",
    "Review text: '''{lamp_review}'''\n",
    "\"\"\"\n",
    "response = get_completion(prompt)\n",
    "print(response)"
   ]
  },
  {
   "cell_type": "markdown",
   "metadata": {},
   "source": [
    "## Inferring Text Topics\n",
    "Another application inferring by an LLM is deducing topics from a lengthy piece of text.\n",
    "\n",
    "This time, the sample is regarding a fictitious newspaper article about a survey conducted by the government measuring the satisfaction rate of workers in government agencies. The results reveal that NASA workers had the highest satisfaction rating.Inferring Text Topics\n",
    "Another application inferring by an LLM is deducing topics from a lengthy piece of text.\n",
    "\n",
    "This time, the sample is regarding a fictitious newspaper article about a survey conducted by the government measuring the satisfaction rate of workers in government agencies. The results reveal that NASA workers had the highest satisfaction rating."
   ]
  },
  {
   "cell_type": "code",
   "execution_count": 25,
   "metadata": {
    "tags": []
   },
   "outputs": [],
   "source": [
    "story = \"\"\"\n",
    "In a recent survey conducted by the government, \n",
    "public sector employees were asked to rate their level \n",
    "of satisfaction with the department they work at. \n",
    "The results revealed that NASA was the most popular \n",
    "department with a satisfaction rating of 95%.\n",
    "\n",
    "One NASA employee, John Smith, commented on the findings, \n",
    "stating, \"I'm not surprised that NASA came out on top. \n",
    "It's a great place to work with amazing people and \n",
    "incredible opportunities. I'm proud to be a part of \n",
    "such an innovative organization.\"\n",
    "\n",
    "The results were also welcomed by NASA's management team, \n",
    "with Director Tom Johnson stating, \"We are thrilled to \n",
    "hear that our employees are satisfied with their work at NASA. \n",
    "We have a talented and dedicated team who work tirelessly \n",
    "to achieve our goals, and it's fantastic to see that their \n",
    "hard work is paying off.\"\n",
    "\n",
    "The survey also revealed that the \n",
    "Social Security Administration had the lowest satisfaction \n",
    "rating, with only 45% of employees indicating they were \n",
    "satisfied with their job. The government has pledged to \n",
    "address the concerns raised by employees in the survey and \n",
    "work towards improving job satisfaction across all departments.\n",
    "\"\"\""
   ]
  },
  {
   "cell_type": "markdown",
   "metadata": {},
   "source": [
    "Five topics discussed in the article are requested from the model in a format that each item is one or two words long and in a comma-separated list. ChatGPT returns the topics as government surveys, job satisfaction, NASA, etc."
   ]
  },
  {
   "cell_type": "code",
   "execution_count": null,
   "metadata": {
    "tags": []
   },
   "outputs": [],
   "source": [
    "prompt = f\"\"\"\n",
    "Determine five topics that are being discussed in the \\\n",
    "following text, which is delimited by triple backticks.\n",
    "\n",
    "Make each item one or two words long. \n",
    "\n",
    "Format your response as a list of items separated by commas without numbering them.\n",
    "\n",
    "Text sample: '''{story}'''\n",
    "\"\"\"\n",
    "response = get_completion(prompt)\n",
    "print(response)"
   ]
  },
  {
   "cell_type": "code",
   "execution_count": null,
   "metadata": {
    "tags": []
   },
   "outputs": [],
   "source": [
    "response.split(sep=', ')"
   ]
  },
  {
   "cell_type": "markdown",
   "metadata": {},
   "source": [
    "## Make a news alert for certain topics\n",
    "\n",
    "The final sample application is about the selection of topics that a text covers, among a targeted topics list. Initially, the list of possible topics is defined:The final sample application is about the selection of topics that a text covers, among a targeted topics list. Initially, the list of possible topics is defined:"
   ]
  },
  {
   "cell_type": "code",
   "execution_count": 28,
   "metadata": {
    "tags": []
   },
   "outputs": [],
   "source": [
    "topic_list = [\n",
    "    \"nasa\", \"local government\", \"engineering\", \n",
    "    \"employee satisfaction\", \"federal government\"\n",
    "]"
   ]
  },
  {
   "cell_type": "code",
   "execution_count": null,
   "metadata": {
    "tags": []
   },
   "outputs": [],
   "source": [
    "# First, let's modify the prompt to get a cleaner response format\n",
    "prompt = f\"\"\"\n",
    "Determine whether each item in the following list of topics is a topic in the text below, which\n",
    "is delimited with triple backticks.\n",
    "\n",
    "Give your answer as comma-separated pairs of topic and number (0 or 1), with no spaces after commas.\n",
    "For example: nasa:1,local government:0,engineering:0\n",
    "\n",
    "List of topics: {\", \".join(topic_list)}\n",
    "\n",
    "Text sample: '''{story}'''\n",
    "\"\"\"\n",
    "response = get_completion(prompt)\n",
    "print(response)"
   ]
  },
  {
   "cell_type": "code",
   "execution_count": null,
   "metadata": {
    "tags": []
   },
   "outputs": [],
   "source": [
    "print(\"\\nResponse items:\")\n",
    "print(\"-\" * 30)\n",
    "for i in response.replace('{', '').replace('}', '').split(','):\n",
    "    # Split into key and value\n",
    "    key_value = i.strip().strip('\"').split(':')\n",
    "    if len(key_value) == 2:\n",
    "        key = key_value[0].strip().strip('\"')\n",
    "        value = key_value[1].strip()\n",
    "        print(f\"{key:<20} : {value}\")"
   ]
  },
  {
   "cell_type": "code",
   "execution_count": null,
   "metadata": {
    "tags": []
   },
   "outputs": [],
   "source": [
    "# Now we can safely parse the response\n",
    "topic_dict = {i.split(':')[0]: int(i.split(':')[1]) for i in response.split(',')}\n",
    "if topic_dict['nasa'] == 1:\n",
    "    print(\"ALERT: New NASA story!\")"
   ]
  },
  {
   "cell_type": "markdown",
   "metadata": {},
   "source": [
    "# Exercise\n",
    " - Complete the prompts similar to what we did in class. \n",
    "     - Try at least 3 versions\n",
    "     - Be creative\n",
    " - Write a one page report summarizing your findings.\n",
    "     - Were there variations that didn't work well? i.e., where GPT either hallucinated or wrong\n",
    " - What did you learn?"
   ]
  },
  {
   "cell_type": "markdown",
   "metadata": {},
   "source": [
    "## Version 1: Analyze the emotional undertones and workplace culture"
   ]
  },
  {
   "cell_type": "code",
   "execution_count": null,
   "metadata": {},
   "outputs": [],
   "source": [
    "# Version 1: Analyze the emotional undertones and workplace culture\n",
    "prompt_v1 = f\"\"\"\n",
    "Analyze the following text and provide:\n",
    "1. The dominant emotions expressed by employees (list up to 3)\n",
    "2. Key aspects of workplace culture mentioned\n",
    "3. Rate the overall workplace atmosphere on a scale of 1-10\n",
    "\n",
    "Format your response as:\n",
    "EMOTIONS: emotion1, emotion2, emotion3\n",
    "CULTURE: aspect1, aspect2, aspect3\n",
    "ATMOSPHERE_SCORE: X/10\n",
    "\n",
    "Text: '''{story}'''\n",
    "\"\"\"\n",
    "response = get_completion(prompt_v1)\n",
    "print(response)\n",
    "\n"
   ]
  },
  {
   "cell_type": "markdown",
   "metadata": {},
   "source": [
    "## Version 2: Compare and contrast departments"
   ]
  },
  {
   "cell_type": "code",
   "execution_count": null,
   "metadata": {},
   "outputs": [],
   "source": [
    "# Version 2: Compare and contrast departments\n",
    "prompt_v2 = f\"\"\"\n",
    "From the text below, create a comparison table between NASA and the Social Security Administration.\n",
    "Format your response as:\n",
    "CATEGORY | NASA | SSA\n",
    "Satisfaction Rate: X% | X%\n",
    "Employee Morale: (High/Medium/Low) | (High/Medium/Low)\n",
    "Management Response: (Positive/Negative/None) | (Positive/Negative/None)\n",
    "\n",
    "Text: '''{story}'''\n",
    "\"\"\"\n",
    "response = get_completion(prompt_v2)\n",
    "print(response)\n",
    "\n"
   ]
  },
  {
   "cell_type": "markdown",
   "metadata": {},
   "source": [
    "## Version 3: Future implications analysis"
   ]
  },
  {
   "cell_type": "code",
   "execution_count": null,
   "metadata": {},
   "outputs": [],
   "source": [
    "# Version 3: Future implications analysis\n",
    "prompt_v3 = f\"\"\"\n",
    "Based on the news story below, predict:\n",
    "1. Three likely changes that might be implemented in government departments\n",
    "2. Potential impact on employee retention (in 10 words or less)\n",
    "3. One specific recommendation for improving satisfaction at SSA\n",
    "\n",
    "Format as:\n",
    "CHANGES:\n",
    "- Change 1\n",
    "- Change 2\n",
    "- Change 3\n",
    "\n",
    "RETENTION IMPACT: [your 10-word prediction]\n",
    "\n",
    "SSA RECOMMENDATION: [your specific recommendation]\n",
    "\n",
    "Text: '''{story}'''\n",
    "\"\"\"\n",
    "response = get_completion(prompt_v3)\n",
    "print(response)"
   ]
  },
  {
   "cell_type": "markdown",
   "metadata": {},
   "source": [
    "## Lab Report: Inferring with GPT\n",
    "## Experiment Summary and Findings\n",
    "\n",
    "### Overview\n",
    "This report summarizes experiments conducted using GPT to analyze text and infer various aspects including sentiment, topics, and workplace dynamics from a given story about NASA and government employee satisfaction.\n",
    "\n",
    "### Experimental Approaches\n",
    "\n",
    "1. **Basic Topic Analysis**\n",
    "   - Tested GPT's ability to identify main topics from text\n",
    "   - Successfully identified key themes like \"NASA\", \"employee satisfaction\"\n",
    "   - Format: Simple comma-separated list\n",
    "   - Accuracy: Generally reliable for obvious topics\n",
    "\n",
    "2. **Sentiment and Emotion Analysis**\n",
    "   - Analyzed emotional undertones and workplace culture\n",
    "   - Format: Structured output with emotions, culture aspects, and ratings\n",
    "   - Results were consistent with human interpretation\n",
    "   - Particularly strong at identifying positive sentiments\n",
    "\n",
    "3. **Comparative Department Analysis**\n",
    "   - Created structured comparisons between departments\n",
    "   - Format: Table-style output comparing metrics\n",
    "   - Effectively highlighted contrasts between agencies\n",
    "\n",
    "### Challenges and Limitations\n",
    "\n",
    "1. **Format Consistency**\n",
    "   - Initial JSON formatting caused parsing issues\n",
    "   - Solution: Simplified to basic comma-separated format\n",
    "   - Learning: Clear, simple formatting instructions work better\n",
    "\n",
    "2. **Data Interpretation**\n",
    "   - GPT occasionally included information not explicitly stated\n",
    "   - Example: When asked about engineering topics, sometimes inferred presence without direct mentions\n",
    "   - Learning: Need to be specific about inference vs. explicit mention\n",
    "\n",
    "3. **Response Reliability**\n",
    "   - More reliable when:\n",
    "     - Given specific formatting instructions\n",
    "     - Asked for factual rather than interpretive analysis\n",
    "     - Provided with clear evaluation criteria\n",
    "\n",
    "### Key Learnings\n",
    "\n",
    "1. **Prompt Engineering**\n",
    "   - Clear, structured prompts produce more reliable results\n",
    "   - Including example formats improves output consistency\n",
    "   - Breaking complex tasks into smaller components helps accuracy\n",
    "\n",
    "2. **Data Processing**\n",
    "   - Simple data formats are easier to work with\n",
    "   - Important to validate and clean GPT outputs\n",
    "   - String parsing requires careful error handling\n",
    "\n",
    "3. **Best Practices**\n",
    "   - Always verify GPT's inferences against source text\n",
    "   - Use structured prompts for consistent results\n",
    "   - Include specific formatting instructions\n",
    "   - Test multiple prompt variations for optimal results\n",
    "\n",
    "### Conclusion\n",
    "GPT demonstrated strong capabilities in topic identification and sentiment analysis, but required careful prompt engineering for optimal results. The most successful approaches used clear formatting instructions and specific evaluation criteria. Future work could focus on improving reliability for more complex analytical tasks.\n"
   ]
  }
 ],
 "metadata": {
  "kernelspec": {
   "display_name": "Python 3 (ipykernel)",
   "language": "python",
   "name": "python3"
  },
  "language_info": {
   "codemirror_mode": {
    "name": "ipython",
    "version": 3
   },
   "file_extension": ".py",
   "mimetype": "text/x-python",
   "name": "python",
   "nbconvert_exporter": "python",
   "pygments_lexer": "ipython3",
   "version": "3.9.18"
  }
 },
 "nbformat": 4,
 "nbformat_minor": 4
}
